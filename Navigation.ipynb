{
 "cells": [
  {
   "cell_type": "markdown",
   "metadata": {},
   "source": [
    "# Navigation\n",
    "\n",
    "---\n",
    "\n",
    "You are welcome to use this coding environment to train your agent for the project.  Follow the instructions below to get started!\n",
    "\n",
    "### 1. Start the Environment\n",
    "\n",
    "Please run the next code cell without making any changes."
   ]
  },
  {
   "cell_type": "code",
   "execution_count": 2,
   "metadata": {},
   "outputs": [
    {
     "name": "stderr",
     "output_type": "stream",
     "text": [
      "INFO:unityagents:\n",
      "'Academy' started successfully!\n",
      "Unity Academy name: Academy\n",
      "        Number of Brains: 1\n",
      "        Number of External Brains : 1\n",
      "        Lesson number : 0\n",
      "        Reset Parameters :\n",
      "\t\t\n",
      "Unity brain name: BananaBrain\n",
      "        Number of Visual Observations (per agent): 0\n",
      "        Vector Observation space type: continuous\n",
      "        Vector Observation space size (per agent): 37\n",
      "        Number of stacked Vector Observation: 1\n",
      "        Vector Action space type: discrete\n",
      "        Vector Action space size (per agent): 4\n",
      "        Vector Action descriptions: , , , \n"
     ]
    }
   ],
   "source": [
    "from unityagents import UnityEnvironment\n",
    "import numpy as np\n",
    "from collections import deque\n",
    "import torch\n",
    "\n",
    "# modify file_name value.\n",
    "env = UnityEnvironment(file_name=r\"D:\\deep-reinforcement-learning\\p1_navigation\\Banana_Windows_x86_64\\Banana.exe\")"
   ]
  },
  {
   "cell_type": "markdown",
   "metadata": {},
   "source": [
    "Environments contain **_brains_** which are responsible for deciding the actions of their associated agents. Here we check for the first brain available, and set it as the default brain we will be controlling from Python."
   ]
  },
  {
   "cell_type": "code",
   "execution_count": 3,
   "metadata": {},
   "outputs": [],
   "source": [
    "# get the default brain\n",
    "brain_name = env.brain_names[0]\n",
    "brain = env.brains[brain_name]\n",
    "# create agent brain\n",
    "from navigation_agent import Agent\n",
    "agent = Agent(state_size=37, action_size=4, seed=0)"
   ]
  },
  {
   "cell_type": "markdown",
   "metadata": {},
   "source": [
    "# 2. Setup variables\n",
    "\n",
    "Run the code cell below to create setup variables."
   ]
  },
  {
   "cell_type": "code",
   "execution_count": 4,
   "metadata": {},
   "outputs": [],
   "source": [
    "#setup\n",
    "n_episodes    = 1000                     # number of training episodes\n",
    "scores        = []                       # list containing scores from each episode\n",
    "scores_window = deque(maxlen=100)        # last 100 scores\n",
    "eps           = 1                        # starting value of epsilon\n",
    "eps_end       = 0.01                     # minimum value of epsilon\n",
    "eps_decay     = eps_end**(1/n_episodes)  # decreasing epsilon"
   ]
  },
  {
   "cell_type": "markdown",
   "metadata": {},
   "source": [
    "### 3. Take Actions in the Environment\n",
    "\n",
    "In the next code cell, a Python API is used to control the agent and receive feedback from the environment.\n",
    "\n",
    "Note that **in this coding environment, you will not be able to watch the agent while it is training**, and you should set `train_mode=True` to restart the environment."
   ]
  },
  {
   "cell_type": "code",
   "execution_count": 6,
   "metadata": {},
   "outputs": [
    {
     "name": "stdout",
     "output_type": "stream",
     "text": [
      "\r",
      "Episode 0\tAverage Score: 13.18\n",
      "Environment solved in episode 0!\tAverage Score: 13.18\n"
     ]
    }
   ],
   "source": [
    "for i_episode in range(n_episodes):\n",
    "    env_info = env.reset(train_mode=True)[brain_name] # reset the environment\n",
    "    score    = 0                                       # initialize the score\n",
    "    while True:\n",
    "        state      = env_info.vector_observations[0] # get the current state\n",
    "        action     = agent.act(state, eps)           # select an action\n",
    "        env_info   = env.step(action)[brain_name]    # send the action to the environment\n",
    "        next_state = env_info.vector_observations[0] # get the next state\n",
    "        reward     = env_info.rewards[0]             # get the reward\n",
    "        done       = env_info.local_done[0]          # see if episode has finished\n",
    "        agent.step(state, action, reward, \n",
    "                   next_state, done)                 # Save experience and learn \n",
    "        score     += reward                          # update the score\n",
    "        state      = next_state                      # roll over the state to next time step\n",
    "        if done:                                     # exit loop if episode finished, done with 300 time stamps\n",
    "            break\n",
    "    scores_window.append(score)       # save most recent score\n",
    "    scores.append(score)              # save most recent score\n",
    "    eps = max(eps_end, eps_decay*eps) # decrease epsilon\n",
    "    print('\\rEpisode {}\\tAverage Score: {:.2f}'.format(i_episode, np.mean(scores_window)), end=\"\")\n",
    "    if np.mean(scores_window)>=13.0:\n",
    "        print('\\nEnvironment solved in episode {:d}!\\tAverage Score: {:.2f}'.format(i_episode, np.mean(scores_window)))\n",
    "        torch.save(agent.qnetwork_local.state_dict(), 'model.pth')\n",
    "        break    "
   ]
  },
  {
   "cell_type": "markdown",
   "metadata": {},
   "source": [
    "4. Watch an Agent\n",
    "In the next code cell, you will load the trained weights from file to watch an agent!"
   ]
  },
  {
   "cell_type": "code",
   "execution_count": 10,
   "metadata": {},
   "outputs": [
    {
     "name": "stdout",
     "output_type": "stream",
     "text": [
      "Score 16.0"
     ]
    }
   ],
   "source": [
    "agent.qnetwork_local.load_state_dict(torch.load('model.pth'))\n",
    "env_info = env.reset(train_mode=False)[brain_name] # reset the environment\n",
    "score    = 0                                       # initialize the score\n",
    "while True:\n",
    "    state      = env_info.vector_observations[0] # get the current state\n",
    "    action     = agent.act(state, eps)           # select an action\n",
    "    env_info   = env.step(action)[brain_name]    # send the action to the environment\n",
    "    next_state = env_info.vector_observations[0] # get the next state\n",
    "    reward     = env_info.rewards[0]             # get the reward\n",
    "    done       = env_info.local_done[0]          # see if episode has finished\n",
    "    agent.step(state, action, reward, \n",
    "               next_state, done)                 # Save experience and learn \n",
    "    score     += reward                          # update the score\n",
    "    state      = next_state                      # roll over the state to next time step\n",
    "    print('\\rScore {}'.format(score), end=\"\")\n",
    "    if done:                                     # exit loop if episode finished, done with 300 time stamps\n",
    "        break"
   ]
  },
  {
   "cell_type": "markdown",
   "metadata": {},
   "source": [
    "When finished, you can close the environment."
   ]
  },
  {
   "cell_type": "code",
   "execution_count": 11,
   "metadata": {},
   "outputs": [],
   "source": [
    "env.close()"
   ]
  }
 ],
 "metadata": {
  "kernelspec": {
   "display_name": "drlnd",
   "language": "python",
   "name": "drlnd"
  },
  "language_info": {
   "codemirror_mode": {
    "name": "ipython",
    "version": 3
   },
   "file_extension": ".py",
   "mimetype": "text/x-python",
   "name": "python",
   "nbconvert_exporter": "python",
   "pygments_lexer": "ipython3",
   "version": "3.6.12"
  }
 },
 "nbformat": 4,
 "nbformat_minor": 2
}
